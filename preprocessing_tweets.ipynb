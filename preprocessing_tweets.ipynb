{
 "cells": [
  {
   "cell_type": "code",
   "execution_count": null,
   "id": "initial_id",
   "metadata": {
    "collapsed": true
   },
   "outputs": [],
   "source": [
    "import os\n",
    "import pandas as pd"
   ]
  },
  {
   "cell_type": "code",
   "execution_count": null,
   "id": "3cc9f04c",
   "metadata": {},
   "outputs": [],
   "source": [
    "# Preprocess text (username and link placeholders)\n",
    "def preprocess_text(text):\n",
    "    new_text = []\n",
    " \n",
    " \n",
    "    for t in text.split(\" \"):\n",
    "        t = '@user' if t.startswith('@') and len(t) > 1 else t\n",
    "        t = 'http' if t.startswith('http') else t\n",
    "        new_text.append(t)\n",
    "    return \" \".join(new_text)"
   ]
  },
  {
   "cell_type": "code",
   "execution_count": null,
   "id": "2a85cb15",
   "metadata": {},
   "outputs": [],
   "source": [
    "# Read all training files and concatenate them into one dataframe\n",
    "li = []\n",
    "for filename in os.listdir(\"train_tweets\"):\n",
    "    df = pd.read_csv(\"train_tweets/\" + filename)\n",
    "    li.append(df)\n",
    "df = pd.concat(li, ignore_index=True)"
   ]
  },
  {
   "cell_type": "code",
   "execution_count": 11,
   "id": "0d336e92",
   "metadata": {},
   "outputs": [],
   "source": [
    "# Apply preprocessing to each tweet\n",
    "df['Tweet'] = df['Tweet'].apply(preprocess_text)"
   ]
  },
  {
   "cell_type": "code",
   "execution_count": 5,
   "id": "d291ad35",
   "metadata": {},
   "outputs": [
    {
     "name": "stderr",
     "output_type": "stream",
     "text": [
      "/tmp/ipykernel_2000755/1596582022.py:2: DeprecationWarning: DataFrameGroupBy.apply operated on the grouping columns. This behavior is deprecated, and in a future version of pandas the grouping columns will be excluded from the operation. Either pass `include_groups=False` to exclude the groupings or explicitly select the grouping columns after groupby to silence this warning.\n",
      "  df.groupby(['MatchID', 'PeriodID'])\n"
     ]
    }
   ],
   "source": [
    "filtered_df = (\n",
    "    df.groupby(['MatchID', 'PeriodID'])\n",
    "    .apply(lambda group: group.drop_duplicates(subset=['Tweet']))\n",
    "    .reset_index(drop=True)\n",
    ")"
   ]
  },
  {
   "cell_type": "code",
   "execution_count": 6,
   "id": "510c0868",
   "metadata": {},
   "outputs": [
    {
     "name": "stdout",
     "output_type": "stream",
     "text": [
      "Removed 1680118 similar tweets\n"
     ]
    }
   ],
   "source": [
    "print(\"Removed\", len(df) - len(filtered_df), \"similar tweets\")"
   ]
  },
  {
   "cell_type": "code",
   "execution_count": null,
   "id": "78fd20da",
   "metadata": {},
   "outputs": [],
   "source": [
    "filtered_df.to_csv(\"cleaned_llm_tweets.csv\", index=False)"
   ]
  },
  {
   "cell_type": "code",
   "execution_count": null,
   "id": "35e3b65e",
   "metadata": {},
   "outputs": [],
   "source": [
    "# Preprocess evaluation data\n",
    "\n",
    "# Load evaluation set\n",
    "import os\n",
    "\n",
    "li = []\n",
    "for filename in os.listdir(\"eval_tweets\"):\n",
    "    eval_df = pd.read_csv(\"eval_tweets/\" + filename)\n",
    "    li.append(eval_df)\n",
    "eval_df = pd.concat(li, ignore_index=True)"
   ]
  },
  {
   "cell_type": "code",
   "execution_count": null,
   "id": "41eaaf76",
   "metadata": {},
   "outputs": [],
   "source": [
    "# Drop duplicates\n",
    "eval_filtered_df = eval_df.drop_duplicates(subset=['Tweet'], inplace=True)\n",
    "\n",
    "# Apply preprocessing to each tweet\n",
    "eval_filtered_df['Tweet'] = eval_filtered_df['Tweet'].apply(preprocess_text)"
   ]
  },
  {
   "cell_type": "code",
   "execution_count": null,
   "id": "fb1f1d1a",
   "metadata": {},
   "outputs": [],
   "source": [
    "eval_filtered_df.to_csv(\"cleaned_eval_tweets.csv\", index=False)"
   ]
  }
 ],
 "metadata": {
  "kernelspec": {
   "display_name": "myenv",
   "language": "python",
   "name": "python3"
  },
  "language_info": {
   "codemirror_mode": {
    "name": "ipython",
    "version": 3
   },
   "file_extension": ".py",
   "mimetype": "text/x-python",
   "name": "python",
   "nbconvert_exporter": "python",
   "pygments_lexer": "ipython3",
   "version": "3.9.19"
  }
 },
 "nbformat": 4,
 "nbformat_minor": 5
}
