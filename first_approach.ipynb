{
 "cells": [
  {
   "cell_type": "code",
   "execution_count": 2,
   "metadata": {},
   "outputs": [],
   "source": [
    "import os\n",
    "import re\n",
    "import gensim.downloader as api\n",
    "import nltk\n",
    "import numpy as np\n",
    "import pandas as pd\n",
    "from nltk.corpus import stopwords\n",
    "from nltk.stem import WordNetLemmatizer\n",
    "from sklearn.dummy import DummyClassifier\n",
    "from sklearn.linear_model import LogisticRegression\n",
    "from sklearn.metrics import accuracy_score\n",
    "from sklearn.model_selection import train_test_split\n",
    "from nltk.stem import PorterStemmer"
   ]
  },
  {
   "cell_type": "code",
   "execution_count": 3,
   "metadata": {},
   "outputs": [
    {
     "name": "stderr",
     "output_type": "stream",
     "text": [
      "[nltk_data] Downloading package stopwords to\n",
      "[nltk_data]     /users/eleves-b/2022/aziz.bacha/nltk_data...\n",
      "[nltk_data]   Package stopwords is already up-to-date!\n",
      "[nltk_data] Downloading package wordnet to\n",
      "[nltk_data]     /users/eleves-b/2022/aziz.bacha/nltk_data...\n",
      "[nltk_data]   Package wordnet is already up-to-date!\n"
     ]
    }
   ],
   "source": [
    "nltk.download('stopwords')\n",
    "nltk.download('wordnet')\n",
    "# Load GloVe model with Gensim's API\n",
    "embeddings_model = api.load(\"glove-twitter-200\")  # 200-dimensional GloVe embeddings"
   ]
  },
  {
   "cell_type": "code",
   "execution_count": 4,
   "metadata": {},
   "outputs": [],
   "source": [
    "def get_avg_embedding(tweet, model, vector_size=200):\n",
    "    words = tweet.split()  # Tokenize by whitespace\n",
    "    word_vectors = [model[word] for word in words if word in model]\n",
    "    if not word_vectors:  # If no words in the tweet are in the vocabulary, return a zero vector\n",
    "        return np.zeros(vector_size)\n",
    "    return np.mean(word_vectors, axis=0)"
   ]
  },
  {
   "cell_type": "code",
   "execution_count": 5,
   "metadata": {},
   "outputs": [],
   "source": [
    "# Remove stopwords\n",
    "stop_words = set(stopwords.words('english'))\n",
    "stemmer = PorterStemmer()\n",
    "\n",
    "# Basic preprocessing function\n",
    "def preprocess_text(text):\n",
    "    # Remove URLs\n",
    "    text = re.sub(r'http\\S+', '', text)\n",
    "    # Lowercasing\n",
    "    text = text.lower()\n",
    "    # Remove punctuation\n",
    "    text = re.sub(r'[^\\w\\s]', '', text)\n",
    "    # Tokenization\n",
    "    words = text.split()\n",
    "    \n",
    "    words = [word for word in words if word not in stop_words]\n",
    "    # Lemmatization\n",
    "    lemmatizer = WordNetLemmatizer()\n",
    "    words = [lemmatizer.lemmatize(word) for word in words]\n",
    "    return ' '.join(words)\n"
   ]
  },
  {
   "cell_type": "code",
   "execution_count": 6,
   "metadata": {},
   "outputs": [],
   "source": [
    "from collections import defaultdict\n",
    "\n",
    "# Dictionary of keywords by sub-event type\n",
    "keywords = {\n",
    "    \"goal\": [\n",
    "        \"goal\", \"golazo\", \"scored\",\n",
    "        \"equalizer\",\"oaaaal\",\"ooooa\", \"ooaaa\",\"gooal\",\"goaaaa\",\"alll\",\"!!!\"\n",
    "    ],\n",
    "    \"penalty\": [\n",
    "        \"penalty\", \"spot kick\",\n",
    "    ],\n",
    "    \"red_card\": [\n",
    "        \"red card\", \"sent off\", \"redcard\", \"ejected\", \"foul play\",\n",
    "        \"dangerous tackle\"\n",
    "    ],\n",
    "    \"yellow_card\": [\n",
    "        \"yellow card\", \"cautioned\", \"warned\",\"yellowcard\"\n",
    "    ],\n",
    "    \"kick_off\": [\n",
    "        \"kickoff\", \"game started\", \"match begins\", \"we'?re live\",\n",
    "        \"first whistle\", \"kick off\", \"kick-off\"\n",
    "    ],\n",
    "    \"half_time\": [\n",
    "        \"half time\", \"halftime\", \"half-time\", \"break time\",\n",
    "         \"half over\", \"interval\"\n",
    "    ],\n",
    "    \"full_time\": [\n",
    "        \"full time\", \"fulltime\", \"full-time\"\n",
    "        , \"match over\", \"whistle\",\n",
    "        \"game over\"\n",
    "    ],\n",
    "    \"own_goal\": [\n",
    "        \"own goal\",\"owngoal\", \"scored on themselves\",\n",
    "    ]\n",
    "}\n",
    "\n",
    "compiled_keywords = {}\n",
    "for event_type, kw_list in keywords.items():\n",
    "    # Escape keywords and join with '|'\n",
    "    pattern = '|'.join(re.escape(kw) for kw in kw_list)\n",
    "    # Replace spaces with '\\s+' to match any whitespace\n",
    "    pattern = pattern.replace(r'\\ ', r'\\s+')\n",
    "    # Compile the regex pattern, case-insensitive and Unicode\n",
    "    compiled_keywords[event_type] = re.compile(pattern, re.IGNORECASE | re.UNICODE)"
   ]
  },
  {
   "cell_type": "code",
   "execution_count": 7,
   "metadata": {},
   "outputs": [
    {
     "name": "stdout",
     "output_type": "stream",
     "text": [
      "Reading GermanyBrazil74.csv\n",
      "Reading ArgentinaBelgium72.csv\n",
      "Reading AustraliaNetherlands29.csv\n",
      "Reading ArgentinaGermanyFinal77.csv\n",
      "Reading FranceGermany70.csv\n",
      "Reading FranceNigeria66.csv\n",
      "Reading GermanyAlgeria67.csv\n",
      "Reading GermanyUSA57.csv\n",
      "Reading AustraliaSpain34.csv\n",
      "Reading BelgiumSouthKorea59.csv\n",
      "Reading CameroonBrazil36.csv\n",
      "Reading HondurasSwitzerland54.csv\n",
      "Reading MexicoCroatia37.csv\n",
      "Reading NetherlandsChile35.csv\n",
      "Reading PortugalGhana58.csv\n",
      "Reading USASlovenia2010.csv\n"
     ]
    }
   ],
   "source": [
    "li = []\n",
    "for filename in os.listdir(\"train_tweets\"):\n",
    "    df = pd.read_csv(\"train_tweets/\" + filename)\n",
    "    print(\"Reading\", filename)\n",
    "    li.append(df)\n",
    "df = pd.concat(li, ignore_index=True)"
   ]
  },
  {
   "cell_type": "code",
   "execution_count": 8,
   "metadata": {},
   "outputs": [],
   "source": [
    "# Removing duplicates and retweets\n",
    "df.drop_duplicates(subset=['Tweet'], inplace=True)\n",
    "df = df[~df['Tweet'].str.startswith('RT ')]\n",
    "\n",
    "df = df.reset_index(drop=True)"
   ]
  },
  {
   "cell_type": "code",
   "execution_count": 10,
   "metadata": {},
   "outputs": [],
   "source": [
    "df['Tweet'] = df['Tweet'].apply(preprocess_text)"
   ]
  },
  {
   "cell_type": "code",
   "execution_count": 11,
   "metadata": {},
   "outputs": [],
   "source": [
    "def detect_keywords(tweet, compiled_keywords):\n",
    "    detected = defaultdict(int)\n",
    "    for event_type, pattern in compiled_keywords.items():\n",
    "        if pattern.search(tweet):\n",
    "            detected[event_type] = 1\n",
    "    return detected"
   ]
  },
  {
   "cell_type": "code",
   "execution_count": 12,
   "metadata": {},
   "outputs": [],
   "source": [
    "df['DetectedEvents'] = df['Tweet'].apply(lambda x: detect_keywords(x, compiled_keywords))\n",
    "df['DetectedEvents'] = df['DetectedEvents'].apply(lambda events: sum(events.values()))"
   ]
  },
  {
   "cell_type": "code",
   "execution_count": 13,
   "metadata": {},
   "outputs": [
    {
     "data": {
      "text/plain": [
       "DetectedEvents\n",
       "0    2049597\n",
       "1     260875\n",
       "2       5614\n",
       "3         89\n",
       "4          3\n",
       "Name: count, dtype: int64"
      ]
     },
     "execution_count": 13,
     "metadata": {},
     "output_type": "execute_result"
    }
   ],
   "source": [
    "df['DetectedEvents'].value_counts()"
   ]
  },
  {
   "cell_type": "code",
   "execution_count": 14,
   "metadata": {},
   "outputs": [],
   "source": [
    "vector_size = 200  # Adjust based on the chosen GloVe model\n",
    "tweet_vectors = np.vstack([get_avg_embedding(tweet, embeddings_model, vector_size) for tweet in df['Tweet']])\n",
    "tweet_df = pd.DataFrame(tweet_vectors)"
   ]
  },
  {
   "cell_type": "code",
   "execution_count": 15,
   "metadata": {},
   "outputs": [],
   "source": [
    "period_features = pd.concat([df, tweet_df], axis=1)"
   ]
  },
  {
   "cell_type": "code",
   "execution_count": 16,
   "metadata": {},
   "outputs": [],
   "source": [
    "period_features = period_features.drop(columns=['Timestamp', 'Tweet'])\n",
    "\n",
    "detected_events_sum = period_features.groupby(['MatchID', 'PeriodID', 'ID'])['DetectedEvents'].sum().reset_index()\n",
    "\n",
    "period_features = period_features.drop(columns=['DetectedEvents'])\n",
    "\n",
    "period_features = period_features.groupby(['MatchID', 'PeriodID', 'ID']).mean().reset_index()\n",
    "\n",
    "period_features.insert(4, 'DetectedEvents', detected_events_sum['DetectedEvents'])"
   ]
  },
  {
   "cell_type": "code",
   "execution_count": 17,
   "metadata": {},
   "outputs": [],
   "source": [
    "tweet_counts = df.groupby(['MatchID', 'PeriodID', 'ID']).size().reset_index(name='TweetCount').drop(columns=['MatchID', 'PeriodID', 'ID'])\n",
    "period_features.insert(5, 'TweetCount', tweet_counts['TweetCount'])"
   ]
  },
  {
   "cell_type": "code",
   "execution_count": 18,
   "metadata": {},
   "outputs": [
    {
     "data": {
      "text/html": [
       "<div>\n",
       "<style scoped>\n",
       "    .dataframe tbody tr th:only-of-type {\n",
       "        vertical-align: middle;\n",
       "    }\n",
       "\n",
       "    .dataframe tbody tr th {\n",
       "        vertical-align: top;\n",
       "    }\n",
       "\n",
       "    .dataframe thead th {\n",
       "        text-align: right;\n",
       "    }\n",
       "</style>\n",
       "<table border=\"1\" class=\"dataframe\">\n",
       "  <thead>\n",
       "    <tr style=\"text-align: right;\">\n",
       "      <th></th>\n",
       "      <th>MatchID</th>\n",
       "      <th>PeriodID</th>\n",
       "      <th>ID</th>\n",
       "      <th>EventType</th>\n",
       "      <th>DetectedEvents</th>\n",
       "      <th>TweetCount</th>\n",
       "      <th>0</th>\n",
       "      <th>1</th>\n",
       "      <th>2</th>\n",
       "      <th>3</th>\n",
       "      <th>...</th>\n",
       "      <th>190</th>\n",
       "      <th>191</th>\n",
       "      <th>192</th>\n",
       "      <th>193</th>\n",
       "      <th>194</th>\n",
       "      <th>195</th>\n",
       "      <th>196</th>\n",
       "      <th>197</th>\n",
       "      <th>198</th>\n",
       "      <th>199</th>\n",
       "    </tr>\n",
       "  </thead>\n",
       "  <tbody>\n",
       "    <tr>\n",
       "      <th>0</th>\n",
       "      <td>0</td>\n",
       "      <td>0</td>\n",
       "      <td>0_0</td>\n",
       "      <td>0.0</td>\n",
       "      <td>5</td>\n",
       "      <td>82</td>\n",
       "      <td>0.095443</td>\n",
       "      <td>0.207692</td>\n",
       "      <td>0.030330</td>\n",
       "      <td>-0.109780</td>\n",
       "      <td>...</td>\n",
       "      <td>-0.023742</td>\n",
       "      <td>-0.054686</td>\n",
       "      <td>0.042194</td>\n",
       "      <td>0.015927</td>\n",
       "      <td>-0.088707</td>\n",
       "      <td>0.032012</td>\n",
       "      <td>0.236772</td>\n",
       "      <td>0.087780</td>\n",
       "      <td>-0.005269</td>\n",
       "      <td>0.124383</td>\n",
       "    </tr>\n",
       "    <tr>\n",
       "      <th>1</th>\n",
       "      <td>0</td>\n",
       "      <td>1</td>\n",
       "      <td>0_1</td>\n",
       "      <td>0.0</td>\n",
       "      <td>3</td>\n",
       "      <td>71</td>\n",
       "      <td>0.119098</td>\n",
       "      <td>0.218118</td>\n",
       "      <td>0.027156</td>\n",
       "      <td>-0.131639</td>\n",
       "      <td>...</td>\n",
       "      <td>-0.030083</td>\n",
       "      <td>-0.049377</td>\n",
       "      <td>0.036753</td>\n",
       "      <td>-0.006270</td>\n",
       "      <td>-0.132416</td>\n",
       "      <td>0.047154</td>\n",
       "      <td>0.229333</td>\n",
       "      <td>0.106552</td>\n",
       "      <td>-0.006598</td>\n",
       "      <td>0.111176</td>\n",
       "    </tr>\n",
       "    <tr>\n",
       "      <th>2</th>\n",
       "      <td>0</td>\n",
       "      <td>2</td>\n",
       "      <td>0_2</td>\n",
       "      <td>0.0</td>\n",
       "      <td>5</td>\n",
       "      <td>83</td>\n",
       "      <td>0.078627</td>\n",
       "      <td>0.199274</td>\n",
       "      <td>0.048089</td>\n",
       "      <td>-0.153070</td>\n",
       "      <td>...</td>\n",
       "      <td>-0.031361</td>\n",
       "      <td>-0.049134</td>\n",
       "      <td>0.044051</td>\n",
       "      <td>0.020548</td>\n",
       "      <td>-0.106693</td>\n",
       "      <td>0.050208</td>\n",
       "      <td>0.235802</td>\n",
       "      <td>0.082216</td>\n",
       "      <td>-0.014229</td>\n",
       "      <td>0.122426</td>\n",
       "    </tr>\n",
       "    <tr>\n",
       "      <th>3</th>\n",
       "      <td>0</td>\n",
       "      <td>3</td>\n",
       "      <td>0_3</td>\n",
       "      <td>0.0</td>\n",
       "      <td>4</td>\n",
       "      <td>96</td>\n",
       "      <td>0.086171</td>\n",
       "      <td>0.200241</td>\n",
       "      <td>0.013364</td>\n",
       "      <td>-0.127577</td>\n",
       "      <td>...</td>\n",
       "      <td>-0.029445</td>\n",
       "      <td>-0.050806</td>\n",
       "      <td>0.045777</td>\n",
       "      <td>0.002460</td>\n",
       "      <td>-0.103733</td>\n",
       "      <td>0.030065</td>\n",
       "      <td>0.242277</td>\n",
       "      <td>0.090043</td>\n",
       "      <td>0.000691</td>\n",
       "      <td>0.114112</td>\n",
       "    </tr>\n",
       "    <tr>\n",
       "      <th>4</th>\n",
       "      <td>0</td>\n",
       "      <td>4</td>\n",
       "      <td>0_4</td>\n",
       "      <td>0.0</td>\n",
       "      <td>4</td>\n",
       "      <td>143</td>\n",
       "      <td>0.092514</td>\n",
       "      <td>0.209283</td>\n",
       "      <td>-0.030375</td>\n",
       "      <td>-0.104870</td>\n",
       "      <td>...</td>\n",
       "      <td>-0.040745</td>\n",
       "      <td>-0.055143</td>\n",
       "      <td>0.024935</td>\n",
       "      <td>0.029452</td>\n",
       "      <td>-0.124541</td>\n",
       "      <td>0.050561</td>\n",
       "      <td>0.229511</td>\n",
       "      <td>0.128974</td>\n",
       "      <td>-0.042124</td>\n",
       "      <td>0.161003</td>\n",
       "    </tr>\n",
       "  </tbody>\n",
       "</table>\n",
       "<p>5 rows × 206 columns</p>\n",
       "</div>"
      ],
      "text/plain": [
       "   MatchID  PeriodID   ID  EventType  DetectedEvents  TweetCount         0  \\\n",
       "0        0         0  0_0        0.0               5          82  0.095443   \n",
       "1        0         1  0_1        0.0               3          71  0.119098   \n",
       "2        0         2  0_2        0.0               5          83  0.078627   \n",
       "3        0         3  0_3        0.0               4          96  0.086171   \n",
       "4        0         4  0_4        0.0               4         143  0.092514   \n",
       "\n",
       "          1         2         3  ...       190       191       192       193  \\\n",
       "0  0.207692  0.030330 -0.109780  ... -0.023742 -0.054686  0.042194  0.015927   \n",
       "1  0.218118  0.027156 -0.131639  ... -0.030083 -0.049377  0.036753 -0.006270   \n",
       "2  0.199274  0.048089 -0.153070  ... -0.031361 -0.049134  0.044051  0.020548   \n",
       "3  0.200241  0.013364 -0.127577  ... -0.029445 -0.050806  0.045777  0.002460   \n",
       "4  0.209283 -0.030375 -0.104870  ... -0.040745 -0.055143  0.024935  0.029452   \n",
       "\n",
       "        194       195       196       197       198       199  \n",
       "0 -0.088707  0.032012  0.236772  0.087780 -0.005269  0.124383  \n",
       "1 -0.132416  0.047154  0.229333  0.106552 -0.006598  0.111176  \n",
       "2 -0.106693  0.050208  0.235802  0.082216 -0.014229  0.122426  \n",
       "3 -0.103733  0.030065  0.242277  0.090043  0.000691  0.114112  \n",
       "4 -0.124541  0.050561  0.229511  0.128974 -0.042124  0.161003  \n",
       "\n",
       "[5 rows x 206 columns]"
      ]
     },
     "execution_count": 18,
     "metadata": {},
     "output_type": "execute_result"
    }
   ],
   "source": [
    "period_features.head()"
   ]
  },
  {
   "cell_type": "code",
   "execution_count": 19,
   "metadata": {},
   "outputs": [],
   "source": [
    "# We drop the non-numerical features and keep the embeddings values for each period\n",
    "X = period_features.drop(columns=['MatchID','ID','EventType']).values\n",
    "y = period_features['EventType'].values"
   ]
  },
  {
   "cell_type": "markdown",
   "metadata": {},
   "source": [
    "XGBoost model"
   ]
  },
  {
   "cell_type": "code",
   "execution_count": 20,
   "metadata": {},
   "outputs": [
    {
     "name": "stdout",
     "output_type": "stream",
     "text": [
      "XGBoost Classifier Accuracy: 0.7772585669781932\n"
     ]
    }
   ],
   "source": [
    "X_train, X_test, y_train, y_test = train_test_split(X, y, test_size=0.3, random_state=42)\n",
    "\n",
    "from sklearn.metrics import accuracy_score\n",
    "import xgboost as xgb\n",
    "\n",
    "xgb_clf = xgb.XGBClassifier(\n",
    "    objective='binary:logistic',  \n",
    "    eval_metric='logloss',       \n",
    "    n_estimators=100,            \n",
    "    learning_rate=0.1,           \n",
    "    max_depth=6,                 \n",
    "    random_state=42              \n",
    ")\n",
    "\n",
    "xgb_clf.fit(X_train, y_train)\n",
    "\n",
    "# Make predictions\n",
    "y_pred = xgb_clf.predict(X_test)\n",
    "\n",
    "# Calculate accuracy\n",
    "accuracy = accuracy_score(y_test, y_pred)\n",
    "print(\"XGBoost Classifier Accuracy:\", accuracy)"
   ]
  },
  {
   "cell_type": "code",
   "execution_count": 21,
   "metadata": {},
   "outputs": [
    {
     "data": {
      "image/png": "[encoded data removed]",
      "text/plain": [
       "<Figure size 640x480 with 1 Axes>"
      ]
     },
     "metadata": {},
     "output_type": "display_data"
    }
   ],
   "source": [
    "# plot feature importance\n",
    "import matplotlib.pyplot as plt\n",
    "from xgboost import plot_importance\n",
    "\n",
    "plot_importance(xgb_clf, max_num_features=10, importance_type='weight')\n",
    "plt.show()"
   ]
  },
  {
   "cell_type": "markdown",
   "metadata": {},
   "source": [
    "Random Forest model:\n",
    " \n",
    "we will use a GridSearchCV for hyperparameter tuning "
   ]
  },
  {
   "cell_type": "code",
   "execution_count": 22,
   "metadata": {},
   "outputs": [
    {
     "name": "stdout",
     "output_type": "stream",
     "text": [
      "Fitting 3 folds for each of 72 candidates, totalling 216 fits\n",
      "Best Parameters: {'max_depth': None, 'max_features': 'sqrt', 'min_samples_leaf': 2, 'min_samples_split': 5, 'n_estimators': 500}\n",
      "Best Cross-Validation Accuracy: 0.7505117329706267\n"
     ]
    }
   ],
   "source": [
    "from sklearn.ensemble import RandomForestClassifier\n",
    "from sklearn.model_selection import GridSearchCV\n",
    "param_grid = {\n",
    "    'n_estimators': [100, 500, 1000],    \n",
    "    'max_depth': [5, 10, None],          \n",
    "    'min_samples_split': [2, 5],         \n",
    "    'min_samples_leaf': [1, 2],          \n",
    "    'max_features': ['sqrt', 'log2']     \n",
    "}\n",
    "\n",
    "rf_clf = RandomForestClassifier(random_state=42)\n",
    "\n",
    "grid_search = GridSearchCV(\n",
    "    estimator=rf_clf, \n",
    "    param_grid=param_grid, \n",
    "    cv=3,                        \n",
    "    scoring='accuracy',          \n",
    "    verbose=1   ,                   \n",
    "    n_jobs=-1                    \n",
    ")\n",
    "\n",
    "grid_search.fit(X_train, y_train)\n",
    "\n",
    "print(\"Best Parameters:\", grid_search.best_params_)\n",
    "print(\"Best Cross-Validation Accuracy:\", grid_search.best_score_)\n"
   ]
  },
  {
   "cell_type": "code",
   "execution_count": 23,
   "metadata": {},
   "outputs": [
    {
     "name": "stdout",
     "output_type": "stream",
     "text": [
      "Test Set Accuracy: 0.7881619937694704\n",
      "\n",
      "Classification Report:\n",
      "              precision    recall  f1-score   support\n",
      "\n",
      "         0.0       0.80      0.72      0.76       300\n",
      "         1.0       0.78      0.85      0.81       342\n",
      "\n",
      "    accuracy                           0.79       642\n",
      "   macro avg       0.79      0.78      0.79       642\n",
      "weighted avg       0.79      0.79      0.79       642\n",
      "\n"
     ]
    }
   ],
   "source": [
    "from sklearn.metrics import classification_report\n",
    "# Use the best model for predictions\n",
    "best_rf_clf = grid_search.best_estimator_\n",
    "y_pred = best_rf_clf.predict(X_test)\n",
    "\n",
    "accuracy = accuracy_score(y_test, y_pred)\n",
    "print(\"Test Set Accuracy:\", accuracy)\n",
    "print(\"\\nClassification Report:\")\n",
    "print(classification_report(y_test, y_pred))"
   ]
  },
  {
   "cell_type": "code",
   "execution_count": 24,
   "metadata": {},
   "outputs": [
    {
     "name": "stdout",
     "output_type": "stream",
     "text": [
      "MLP Classifier Accuracy: 0.7585669781931464\n",
      "\n",
      "Classification Report:\n",
      "\n",
      "              precision    recall  f1-score   support\n",
      "\n",
      "         0.0       0.76      0.71      0.73       300\n",
      "         1.0       0.76      0.80      0.78       342\n",
      "\n",
      "    accuracy                           0.76       642\n",
      "   macro avg       0.76      0.76      0.76       642\n",
      "weighted avg       0.76      0.76      0.76       642\n",
      "\n"
     ]
    }
   ],
   "source": [
    "from sklearn.neural_network import MLPClassifier\n",
    "from sklearn.metrics import accuracy_score, classification_report\n",
    "from sklearn.preprocessing import StandardScaler\n",
    "from sklearn.pipeline import Pipeline\n",
    "import numpy as np\n",
    "\n",
    "mlp_clf = Pipeline([\n",
    "    ('scaler', StandardScaler()),  \n",
    "    ('mlp', MLPClassifier(\n",
    "        hidden_layer_sizes=(128, 64),  \n",
    "        activation='relu',            \n",
    "        solver='adam',                \n",
    "        alpha=0.0001,                 \n",
    "        learning_rate='adaptive',     \n",
    "        max_iter=500,                 \n",
    "        random_state=42               \n",
    "))])\n",
    "\n",
    "mlp_clf.fit(X_train, y_train)\n",
    "\n",
    "y_pred = mlp_clf.predict(X_test)\n",
    "\n",
    "accuracy = accuracy_score(y_test, y_pred)\n",
    "print(\"MLP Classifier Accuracy:\", accuracy)\n",
    "\n",
    "print(\"\\nClassification Report:\\n\")\n",
    "print(classification_report(y_test, y_pred))\n"
   ]
  },
  {
   "cell_type": "code",
   "execution_count": 25,
   "metadata": {},
   "outputs": [],
   "source": [
    "from sklearn.metrics import accuracy_score, precision_score, recall_score, f1_score, roc_auc_score, classification_report\n",
    "\n",
    "results = {}\n",
    "X_train, X_test, y_train, y_test = train_test_split(X, y, test_size=0.3, random_state=42)\n",
    "classifiers = {'XGBoost': xgb_clf, 'Random Forest': best_rf_clf, 'MLP': mlp_clf}\n",
    "\n",
    "for name, clf in classifiers.items():\n",
    "    y_pred = clf.predict(X_test)\n",
    "    y_proba = clf.predict_proba(X_test)[:, 1] if hasattr(clf, 'predict_proba') else None\n",
    "\n",
    "    results[name] = {\n",
    "        'Accuracy': accuracy_score(y_test, y_pred),\n",
    "        'Precision': precision_score(y_test, y_pred, average='weighted'),\n",
    "        'F1-Score': f1_score(y_test, y_pred, average='weighted'),\n",
    "        'ROC-AUC': roc_auc_score(y_test, y_proba) if y_proba is not None else None\n",
    "    }\n"
   ]
  },
  {
   "cell_type": "code",
   "execution_count": 26,
   "metadata": {},
   "outputs": [
    {
     "data": {
      "text/html": [
       "<div>\n",
       "<style scoped>\n",
       "    .dataframe tbody tr th:only-of-type {\n",
       "        vertical-align: middle;\n",
       "    }\n",
       "\n",
       "    .dataframe tbody tr th {\n",
       "        vertical-align: top;\n",
       "    }\n",
       "\n",
       "    .dataframe thead th {\n",
       "        text-align: right;\n",
       "    }\n",
       "</style>\n",
       "<table border=\"1\" class=\"dataframe\">\n",
       "  <thead>\n",
       "    <tr style=\"text-align: right;\">\n",
       "      <th></th>\n",
       "      <th>Classifier</th>\n",
       "      <th>Accuracy</th>\n",
       "      <th>Precision</th>\n",
       "      <th>F1-Score</th>\n",
       "      <th>ROC-AUC</th>\n",
       "    </tr>\n",
       "  </thead>\n",
       "  <tbody>\n",
       "    <tr>\n",
       "      <th>0</th>\n",
       "      <td>XGBoost</td>\n",
       "      <td>0.777259</td>\n",
       "      <td>0.777083</td>\n",
       "      <td>0.776941</td>\n",
       "      <td>0.869474</td>\n",
       "    </tr>\n",
       "    <tr>\n",
       "      <th>1</th>\n",
       "      <td>Random Forest</td>\n",
       "      <td>0.788162</td>\n",
       "      <td>0.789415</td>\n",
       "      <td>0.787038</td>\n",
       "      <td>0.875097</td>\n",
       "    </tr>\n",
       "    <tr>\n",
       "      <th>2</th>\n",
       "      <td>MLP</td>\n",
       "      <td>0.758567</td>\n",
       "      <td>0.758538</td>\n",
       "      <td>0.757882</td>\n",
       "      <td>0.840760</td>\n",
       "    </tr>\n",
       "  </tbody>\n",
       "</table>\n",
       "</div>"
      ],
      "text/plain": [
       "      Classifier  Accuracy  Precision  F1-Score   ROC-AUC\n",
       "0        XGBoost  0.777259   0.777083  0.776941  0.869474\n",
       "1  Random Forest  0.788162   0.789415  0.787038  0.875097\n",
       "2            MLP  0.758567   0.758538  0.757882  0.840760"
      ]
     },
     "execution_count": 26,
     "metadata": {},
     "output_type": "execute_result"
    }
   ],
   "source": [
    "results_df = pd.DataFrame(results).T\n",
    "results_df.reset_index(inplace=True)\n",
    "results_df.rename(columns={'index': 'Classifier'}, inplace=True)\n",
    "\n",
    "results_df"
   ]
  }
 ],
 "metadata": {
  "kernelspec": {
   "display_name": "Python 3",
   "language": "python",
   "name": "python3"
  },
  "language_info": {
   "codemirror_mode": {
    "name": "ipython",
    "version": 3
   },
   "file_extension": ".py",
   "mimetype": "text/x-python",
   "name": "python",
   "nbconvert_exporter": "python",
   "pygments_lexer": "ipython3",
   "version": "3.9.19"
  }
 },
 "nbformat": 4,
 "nbformat_minor": 2
}
